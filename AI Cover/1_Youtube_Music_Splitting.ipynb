{
  "nbformat": 4,
  "nbformat_minor": 0,
  "metadata": {
    "colab": {
      "provenance": [],
      "gpuType": "T4",
      "include_colab_link": true
    },
    "kernelspec": {
      "name": "python3",
      "display_name": "Python 3"
    },
    "language_info": {
      "name": "python"
    },
    "accelerator": "GPU"
  },
  "cells": [
    {
      "cell_type": "markdown",
      "metadata": {
        "id": "view-in-github",
        "colab_type": "text"
      },
      "source": [
        "<a href=\"https://colab.research.google.com/github/Minyst/ML_DL_Portfolio/blob/main/AI%20Cover/1_Youtube_Music_Splitting.ipynb\" target=\"_parent\"><img src=\"https://colab.research.google.com/assets/colab-badge.svg\" alt=\"Open In Colab\"/></a>"
      ]
    },
    {
      "cell_type": "markdown",
      "source": [
        "#Youtube Music Splitting"
      ],
      "metadata": {
        "id": "sDraxeaqAQp6"
      }
    },
    {
      "cell_type": "code",
      "source": [
        "from google.colab import drive\n",
        "drive.mount('/content/drive', force_remount=True)"
      ],
      "metadata": {
        "id": "4ZQBIPAu6JF0",
        "colab": {
          "base_uri": "https://localhost:8080/"
        },
        "outputId": "c9dd50f9-df99-4f90-afd0-86573cceb83d"
      },
      "execution_count": null,
      "outputs": [
        {
          "output_type": "stream",
          "name": "stdout",
          "text": [
            "Mounted at /content/drive\n"
          ]
        }
      ]
    },
    {
      "cell_type": "markdown",
      "source": [
        "# Package Download"
      ],
      "metadata": {
        "id": "XN3D2ChUBQ2Z"
      }
    },
    {
      "cell_type": "code",
      "source": [
        "!pip install -q yt_dlp\n",
        "!pip install -q ffmpeg\n",
        "!pip install -q demucs"
      ],
      "metadata": {
        "id": "MFM2nr6lBUbU",
        "colab": {
          "base_uri": "https://localhost:8080/"
        },
        "outputId": "77a2b66b-d873-4aec-c192-6058bbc02cb2"
      },
      "execution_count": null,
      "outputs": [
        {
          "output_type": "stream",
          "name": "stdout",
          "text": [
            "\u001b[2K     \u001b[90m━━━━━━━━━━━━━━━━━━━━━━━━━━━━━━━━━━━━━━━━\u001b[0m \u001b[32m3.1/3.1 MB\u001b[0m \u001b[31m15.3 MB/s\u001b[0m eta \u001b[36m0:00:00\u001b[0m\n",
            "\u001b[2K     \u001b[90m━━━━━━━━━━━━━━━━━━━━━━━━━━━━━━━━━━━━━━━━\u001b[0m \u001b[32m3.0/3.0 MB\u001b[0m \u001b[31m30.2 MB/s\u001b[0m eta \u001b[36m0:00:00\u001b[0m\n",
            "\u001b[2K     \u001b[90m━━━━━━━━━━━━━━━━━━━━━━━━━━━━━━━━━━━━━━━━\u001b[0m \u001b[32m194.4/194.4 kB\u001b[0m \u001b[31m18.6 MB/s\u001b[0m eta \u001b[36m0:00:00\u001b[0m\n",
            "\u001b[2K     \u001b[90m━━━━━━━━━━━━━━━━━━━━━━━━━━━━━━━━━━━━━━━━\u001b[0m \u001b[32m2.1/2.1 MB\u001b[0m \u001b[31m36.0 MB/s\u001b[0m eta \u001b[36m0:00:00\u001b[0m\n",
            "\u001b[2K     \u001b[90m━━━━━━━━━━━━━━━━━━━━━━━━━━━━━━━━━━━━━━━━\u001b[0m \u001b[32m64.9/64.9 kB\u001b[0m \u001b[31m8.5 MB/s\u001b[0m eta \u001b[36m0:00:00\u001b[0m\n",
            "\u001b[2K     \u001b[90m━━━━━━━━━━━━━━━━━━━━━━━━━━━━━━━━━━━━━━━━\u001b[0m \u001b[32m130.2/130.2 kB\u001b[0m \u001b[31m411.2 kB/s\u001b[0m eta \u001b[36m0:00:00\u001b[0m\n",
            "\u001b[?25h\u001b[31mERROR: pip's dependency resolver does not currently take into account all the packages that are installed. This behaviour is the source of the following dependency conflicts.\n",
            "google-colab 1.0.0 requires requests==2.31.0, but you have requests 2.32.3 which is incompatible.\u001b[0m\u001b[31m\n",
            "\u001b[0m  Preparing metadata (setup.py) ... \u001b[?25l\u001b[?25hdone\n",
            "  Building wheel for ffmpeg (setup.py) ... \u001b[?25l\u001b[?25hdone\n",
            "\u001b[2K     \u001b[90m━━━━━━━━━━━━━━━━━━━━━━━━━━━━━━━━━━━━━━━━\u001b[0m \u001b[32m1.2/1.2 MB\u001b[0m \u001b[31m20.1 MB/s\u001b[0m eta \u001b[36m0:00:00\u001b[0m\n",
            "\u001b[?25h  Preparing metadata (setup.py) ... \u001b[?25l\u001b[?25hdone\n",
            "\u001b[2K     \u001b[90m━━━━━━━━━━━━━━━━━━━━━━━━━━━━━━━━━━━━━━━━\u001b[0m \u001b[32m87.1/87.1 kB\u001b[0m \u001b[31m11.9 MB/s\u001b[0m eta \u001b[36m0:00:00\u001b[0m\n",
            "\u001b[?25h  Installing build dependencies ... \u001b[?25l\u001b[?25hdone\n",
            "  Getting requirements to build wheel ... \u001b[?25l\u001b[?25hdone\n",
            "  Preparing metadata (pyproject.toml) ... \u001b[?25l\u001b[?25hdone\n",
            "\u001b[2K     \u001b[90m━━━━━━━━━━━━━━━━━━━━━━━━━━━━━━━━━━━━━━━━\u001b[0m \u001b[32m43.2/43.2 kB\u001b[0m \u001b[31m2.2 MB/s\u001b[0m eta \u001b[36m0:00:00\u001b[0m\n",
            "\u001b[2K     \u001b[90m━━━━━━━━━━━━━━━━━━━━━━━━━━━━━━━━━━━━━━━━\u001b[0m \u001b[32m59.6/59.6 kB\u001b[0m \u001b[31m6.0 MB/s\u001b[0m eta \u001b[36m0:00:00\u001b[0m\n",
            "\u001b[?25h  Preparing metadata (setup.py) ... \u001b[?25l\u001b[?25hdone\n",
            "\u001b[2K     \u001b[90m━━━━━━━━━━━━━━━━━━━━━━━━━━━━━━━━━━━━━━━━\u001b[0m \u001b[32m239.8/239.8 kB\u001b[0m \u001b[31m24.6 MB/s\u001b[0m eta \u001b[36m0:00:00\u001b[0m\n",
            "\u001b[2K     \u001b[90m━━━━━━━━━━━━━━━━━━━━━━━━━━━━━━━━━━━━━━━━\u001b[0m \u001b[32m40.0/40.0 kB\u001b[0m \u001b[31m5.0 MB/s\u001b[0m eta \u001b[36m0:00:00\u001b[0m\n",
            "\u001b[2K     \u001b[90m━━━━━━━━━━━━━━━━━━━━━━━━━━━━━━━━━━━━━━━━\u001b[0m \u001b[32m21.3/21.3 MB\u001b[0m \u001b[31m59.7 MB/s\u001b[0m eta \u001b[36m0:00:00\u001b[0m\n",
            "\u001b[2K     \u001b[90m━━━━━━━━━━━━━━━━━━━━━━━━━━━━━━━━━━━━━━━━\u001b[0m \u001b[32m79.5/79.5 kB\u001b[0m \u001b[31m11.4 MB/s\u001b[0m eta \u001b[36m0:00:00\u001b[0m\n",
            "\u001b[2K     \u001b[90m━━━━━━━━━━━━━━━━━━━━━━━━━━━━━━━━━━━━━━━━\u001b[0m \u001b[32m74.7/74.7 kB\u001b[0m \u001b[31m11.3 MB/s\u001b[0m eta \u001b[36m0:00:00\u001b[0m\n",
            "\u001b[?25h  Preparing metadata (setup.py) ... \u001b[?25l\u001b[?25hdone\n",
            "\u001b[2K     \u001b[90m━━━━━━━━━━━━━━━━━━━━━━━━━━━━━━━━━━━━━━━━\u001b[0m \u001b[32m117.0/117.0 kB\u001b[0m \u001b[31m16.7 MB/s\u001b[0m eta \u001b[36m0:00:00\u001b[0m\n",
            "\u001b[?25h  Preparing metadata (setup.py) ... \u001b[?25l\u001b[?25hdone\n",
            "  Building wheel for demucs (setup.py) ... \u001b[?25l\u001b[?25hdone\n",
            "  Building wheel for julius (setup.py) ... \u001b[?25l\u001b[?25hdone\n",
            "  Building wheel for dora-search (pyproject.toml) ... \u001b[?25l\u001b[?25hdone\n",
            "  Building wheel for antlr4-python3-runtime (setup.py) ... \u001b[?25l\u001b[?25hdone\n",
            "  Building wheel for treetable (setup.py) ... \u001b[?25l\u001b[?25hdone\n"
          ]
        }
      ]
    },
    {
      "cell_type": "markdown",
      "source": [
        "# Import Packages"
      ],
      "metadata": {
        "id": "xs6Ro_QgBBiR"
      }
    },
    {
      "cell_type": "code",
      "source": [
        "from __future__ import unicode_literals\n",
        "import os\n",
        "import sys\n",
        "import shutil\n",
        "import yt_dlp\n",
        "import ffmpeg\n",
        "import demucs\n",
        "import time\n",
        "import glob"
      ],
      "metadata": {
        "id": "tkMS3xcOBM_R"
      },
      "execution_count": null,
      "outputs": []
    },
    {
      "cell_type": "markdown",
      "source": [
        "# Music Download & Split Music\n",
        "#####split music - vocals and no vocals(MR,BGM)\n",
        "#####Park Hyo Shin(박효신)\n",
        "#####추억은 사랑을 닮아: https://youtu.be/KaOzQqE-fwQ?si=LfjlrQbyMFu8h5ck,\n",
        "#####야생화: https://youtu.be/OxgiiyLp5pk?si=m-vMnP6ZyJMiGEs7,\n",
        "#####눈의꽃: https://youtu.be/BY4sHNaV4WU?si=eFUJ2iGr6FzW2cVK,\n",
        "#####Gift: https://youtu.be/haM03BYST8c?si=hxlvtp4ifWLHT3by,\n",
        "#####동경: https://youtu.be/xdQZqb0glnI?si=ZFjrLHqYaI-icfhj\n",
        "\n",
        "\n"
      ],
      "metadata": {
        "id": "Fj3gAX8a-4_y"
      }
    },
    {
      "cell_type": "markdown",
      "source": [
        "#Python version"
      ],
      "metadata": {
        "id": "QwPzFPTzxj2E"
      }
    },
    {
      "cell_type": "code",
      "source": [
        "base_dir = \"/content/drive/MyDrive/AICover\"\n",
        "os.makedirs(base_dir, exist_ok=True)\n",
        "dir_name = \"PHS\"\n",
        "os.makedirs(f\"{base_dir}/{dir_name}\", exist_ok=True)\n",
        "\n",
        "youtube_url = [\n",
        "    \"https://youtu.be/KaOzQqE-fwQ?si=LfjlrQbyMFu8h5ck\",\n",
        "    \"https://youtu.be/OxgiiyLp5pk?si=m-vMnP6ZyJMiGEs7\",\n",
        "    \"https://youtu.be/BY4sHNaV4WU?si=eFUJ2iGr6FzW2cVK\",\n",
        "    \"https://youtu.be/haM03BYST8c?si=hxlvtp4ifWLHT3by\",\n",
        "    \"https://youtu.be/xdQZqb0glnI?si=ZFjrLHqYaI-icfhj\"\n",
        "]\n",
        "\n",
        "music = [\"추억은사랑을닮아\", \"야생화\", \"눈의꽃\", \"Gift\", \"동경\"]\n",
        "\n",
        "for i, link in enumerate(youtube_url):\n",
        "    ydl_opts = {\n",
        "        'format': 'bestaudio/best',\n",
        "        'postprocessors': [{\n",
        "            'key': 'FFmpegExtractAudio',\n",
        "            'preferredcodec': 'wav',\n",
        "        }],\n",
        "        \"outtmpl\": f'{base_dir}/{dir_name}/{music[i]}',\n",
        "    }\n",
        "\n",
        "\n",
        "    with yt_dlp.YoutubeDL(ydl_opts) as ydl:\n",
        "        ydl.download([link])\n",
        "\n",
        "    audio_url = f\"{base_dir}/{dir_name}/{music[i]}.wav\"\n",
        "    !demucs --two-stems=vocals {audio_url}\n",
        "\n",
        "    files_to_delete_1 = glob.glob(f\"/content/separated/htdemucs/{music[i]}/no_vocals.wav\")\n",
        "    for file in files_to_delete_1:\n",
        "        os.remove(file)\n",
        "\n",
        "    files_to_move = glob.glob(\"/content/separated/htdemucs/*\")\n",
        "    for file in files_to_move:\n",
        "        shutil.move(file, f'{base_dir}/{dir_name}')\n",
        "\n",
        "files_to_delete_2 = glob.glob(f\"{base_dir}/{dir_name}/*.wav\")\n",
        "for file in files_to_delete_2:\n",
        "    os.remove(file)"
      ],
      "metadata": {
        "colab": {
          "base_uri": "https://localhost:8080/"
        },
        "id": "SCvnqsmR6kTx",
        "outputId": "d7a0ca4a-0ad8-47d7-88ad-a89ea0b8e00e"
      },
      "execution_count": null,
      "outputs": [
        {
          "output_type": "stream",
          "name": "stdout",
          "text": [
            "[youtube] Extracting URL: https://youtu.be/KaOzQqE-fwQ?si=LfjlrQbyMFu8h5ck\n",
            "[youtube] KaOzQqE-fwQ: Downloading webpage\n",
            "[youtube] KaOzQqE-fwQ: Downloading ios player API JSON\n",
            "[youtube] KaOzQqE-fwQ: Downloading m3u8 information\n",
            "[info] KaOzQqE-fwQ: Downloading 1 format(s): 251\n",
            "[download] Destination: /content/drive/MyDrive/AICover/PHS/추억은사랑을닮아\n",
            "[download] 100% of    5.30MiB in 00:00:00 at 18.11MiB/s  \n",
            "[ExtractAudio] Destination: /content/drive/MyDrive/AICover/PHS/추억은사랑을닮아.wav\n",
            "Deleting original file /content/drive/MyDrive/AICover/PHS/추억은사랑을닮아 (pass -k to keep)\n",
            "\u001b[1mImportant: the default model was recently changed to `htdemucs`\u001b[0m the latest Hybrid Transformer Demucs model. In some cases, this model can actually perform worse than previous models. To get back the old default model use `-n mdx_extra_q`.\n",
            "Selected model is a bag of 1 models. You will see that many progress bars per track.\n",
            "Separated tracks will be stored in /content/separated/htdemucs\n",
            "Separating track /content/drive/MyDrive/AICover/PHS/추억은사랑을닮아.wav\n",
            "  0%|                                                                                 | 0.0/333.45 [00:00<?, ?seconds/s]/usr/local/lib/python3.10/dist-packages/torch/nn/modules/conv.py:306: UserWarning: Plan failed with a cudnnException: CUDNN_BACKEND_EXECUTION_PLAN_DESCRIPTOR: cudnnFinalize Descriptor Failed cudnn_status: CUDNN_STATUS_NOT_SUPPORTED (Triggered internally at ../aten/src/ATen/native/cudnn/Conv_v8.cpp:919.)\n",
            "  return F.conv1d(input, weight, bias, self.stride,\n",
            "100%|██████████████████████████████████████████████████████████████████████| 333.45/333.45 [00:14<00:00, 22.71seconds/s]\n",
            "[youtube] Extracting URL: https://youtu.be/OxgiiyLp5pk?si=m-vMnP6ZyJMiGEs7\n",
            "[youtube] OxgiiyLp5pk: Downloading webpage\n",
            "[youtube] OxgiiyLp5pk: Downloading ios player API JSON\n",
            "[youtube] OxgiiyLp5pk: Downloading m3u8 information\n",
            "[info] OxgiiyLp5pk: Downloading 1 format(s): 251\n",
            "[download] Destination: /content/drive/MyDrive/AICover/PHS/야생화\n",
            "[download] 100% of    5.41MiB in 00:00:00 at 5.95MiB/s   \n",
            "[ExtractAudio] Destination: /content/drive/MyDrive/AICover/PHS/야생화.wav\n",
            "Deleting original file /content/drive/MyDrive/AICover/PHS/야생화 (pass -k to keep)\n",
            "\u001b[1mImportant: the default model was recently changed to `htdemucs`\u001b[0m the latest Hybrid Transformer Demucs model. In some cases, this model can actually perform worse than previous models. To get back the old default model use `-n mdx_extra_q`.\n",
            "Selected model is a bag of 1 models. You will see that many progress bars per track.\n",
            "Separated tracks will be stored in /content/separated/htdemucs\n",
            "Separating track /content/drive/MyDrive/AICover/PHS/야생화.wav\n",
            "  0%|                                                                                 | 0.0/345.15 [00:00<?, ?seconds/s]/usr/local/lib/python3.10/dist-packages/torch/nn/modules/conv.py:306: UserWarning: Plan failed with a cudnnException: CUDNN_BACKEND_EXECUTION_PLAN_DESCRIPTOR: cudnnFinalize Descriptor Failed cudnn_status: CUDNN_STATUS_NOT_SUPPORTED (Triggered internally at ../aten/src/ATen/native/cudnn/Conv_v8.cpp:919.)\n",
            "  return F.conv1d(input, weight, bias, self.stride,\n",
            "100%|██████████████████████████████████████████████████████████████████████| 345.15/345.15 [00:15<00:00, 22.86seconds/s]\n",
            "[youtube] Extracting URL: https://youtu.be/BY4sHNaV4WU?si=eFUJ2iGr6FzW2cVK\n",
            "[youtube] BY4sHNaV4WU: Downloading webpage\n",
            "[youtube] BY4sHNaV4WU: Downloading ios player API JSON\n",
            "[youtube] BY4sHNaV4WU: Downloading m3u8 information\n",
            "[info] BY4sHNaV4WU: Downloading 1 format(s): 251\n",
            "[download] Destination: /content/drive/MyDrive/AICover/PHS/눈의꽃\n",
            "[download] 100% of    5.61MiB in 00:00:00 at 16.29MiB/s  \n",
            "[ExtractAudio] Destination: /content/drive/MyDrive/AICover/PHS/눈의꽃.wav\n",
            "Deleting original file /content/drive/MyDrive/AICover/PHS/눈의꽃 (pass -k to keep)\n",
            "\u001b[1mImportant: the default model was recently changed to `htdemucs`\u001b[0m the latest Hybrid Transformer Demucs model. In some cases, this model can actually perform worse than previous models. To get back the old default model use `-n mdx_extra_q`.\n",
            "Selected model is a bag of 1 models. You will see that many progress bars per track.\n",
            "Separated tracks will be stored in /content/separated/htdemucs\n",
            "Separating track /content/drive/MyDrive/AICover/PHS/눈의꽃.wav\n",
            "  0%|                                                                                 | 0.0/345.15 [00:00<?, ?seconds/s]/usr/local/lib/python3.10/dist-packages/torch/nn/modules/conv.py:306: UserWarning: Plan failed with a cudnnException: CUDNN_BACKEND_EXECUTION_PLAN_DESCRIPTOR: cudnnFinalize Descriptor Failed cudnn_status: CUDNN_STATUS_NOT_SUPPORTED (Triggered internally at ../aten/src/ATen/native/cudnn/Conv_v8.cpp:919.)\n",
            "  return F.conv1d(input, weight, bias, self.stride,\n",
            "100%|██████████████████████████████████████████████████████████████████████| 345.15/345.15 [00:15<00:00, 22.64seconds/s]\n",
            "[youtube] Extracting URL: https://youtu.be/haM03BYST8c?si=hxlvtp4ifWLHT3by\n",
            "[youtube] haM03BYST8c: Downloading webpage\n",
            "[youtube] haM03BYST8c: Downloading ios player API JSON\n",
            "[youtube] haM03BYST8c: Downloading m3u8 information\n",
            "[info] haM03BYST8c: Downloading 1 format(s): 251\n",
            "[download] Destination: /content/drive/MyDrive/AICover/PHS/Gift\n",
            "[download] 100% of    3.33MiB in 00:00:00 at 12.34MiB/s  \n",
            "[ExtractAudio] Destination: /content/drive/MyDrive/AICover/PHS/Gift.wav\n",
            "Deleting original file /content/drive/MyDrive/AICover/PHS/Gift (pass -k to keep)\n",
            "\u001b[1mImportant: the default model was recently changed to `htdemucs`\u001b[0m the latest Hybrid Transformer Demucs model. In some cases, this model can actually perform worse than previous models. To get back the old default model use `-n mdx_extra_q`.\n",
            "Selected model is a bag of 1 models. You will see that many progress bars per track.\n",
            "Separated tracks will be stored in /content/separated/htdemucs\n",
            "Separating track /content/drive/MyDrive/AICover/PHS/Gift.wav\n",
            "  0%|                                                                                  | 0.0/210.6 [00:00<?, ?seconds/s]/usr/local/lib/python3.10/dist-packages/torch/nn/modules/conv.py:306: UserWarning: Plan failed with a cudnnException: CUDNN_BACKEND_EXECUTION_PLAN_DESCRIPTOR: cudnnFinalize Descriptor Failed cudnn_status: CUDNN_STATUS_NOT_SUPPORTED (Triggered internally at ../aten/src/ATen/native/cudnn/Conv_v8.cpp:919.)\n",
            "  return F.conv1d(input, weight, bias, self.stride,\n",
            "100%|████████████████████████████████████████████████████████████████████████| 210.6/210.6 [00:10<00:00, 20.73seconds/s]\n",
            "[youtube] Extracting URL: https://youtu.be/xdQZqb0glnI?si=ZFjrLHqYaI-icfhj\n",
            "[youtube] xdQZqb0glnI: Downloading webpage\n",
            "[youtube] xdQZqb0glnI: Downloading ios player API JSON\n",
            "[youtube] xdQZqb0glnI: Downloading m3u8 information\n",
            "[info] xdQZqb0glnI: Downloading 1 format(s): 251\n",
            "[download] Destination: /content/drive/MyDrive/AICover/PHS/동경\n",
            "[download] 100% of    5.06MiB in 00:00:00 at 13.08MiB/s  \n",
            "[ExtractAudio] Destination: /content/drive/MyDrive/AICover/PHS/동경.wav\n",
            "Deleting original file /content/drive/MyDrive/AICover/PHS/동경 (pass -k to keep)\n",
            "\u001b[1mImportant: the default model was recently changed to `htdemucs`\u001b[0m the latest Hybrid Transformer Demucs model. In some cases, this model can actually perform worse than previous models. To get back the old default model use `-n mdx_extra_q`.\n",
            "Selected model is a bag of 1 models. You will see that many progress bars per track.\n",
            "Separated tracks will be stored in /content/separated/htdemucs\n",
            "Separating track /content/drive/MyDrive/AICover/PHS/동경.wav\n",
            "  0%|                                                                                  | 0.0/315.9 [00:00<?, ?seconds/s]/usr/local/lib/python3.10/dist-packages/torch/nn/modules/conv.py:306: UserWarning: Plan failed with a cudnnException: CUDNN_BACKEND_EXECUTION_PLAN_DESCRIPTOR: cudnnFinalize Descriptor Failed cudnn_status: CUDNN_STATUS_NOT_SUPPORTED (Triggered internally at ../aten/src/ATen/native/cudnn/Conv_v8.cpp:919.)\n",
            "  return F.conv1d(input, weight, bias, self.stride,\n",
            "100%|████████████████████████████████████████████████████████████████████████| 315.9/315.9 [00:14<00:00, 22.04seconds/s]\n"
          ]
        }
      ]
    },
    {
      "cell_type": "code",
      "source": [
        "# files_to_copy = glob.glob(\"/content/separated/htdemucs/*\")\n",
        "# for file in files_to_copy:\n",
        "#     shutil.copy(file, f'{base_dir}/{dir_name}')"
      ],
      "metadata": {
        "id": "uCKa-pPa4D13"
      },
      "execution_count": null,
      "outputs": []
    },
    {
      "cell_type": "markdown",
      "source": [
        "#Linux version"
      ],
      "metadata": {
        "id": "1V6ItKYPxbS5"
      }
    },
    {
      "cell_type": "code",
      "source": [
        "base_dir = \"/content/drive/MyDrive/AICover\"\n",
        "os.makedirs(base_dir, exist_ok=True)\n",
        "dir_name = \"PHS\"\n",
        "os.makedirs(f\"{base_dir}/{dir_name}\", exist_ok=True)\n",
        "\n",
        "youtube_url = [\n",
        "    \"https://youtu.be/KaOzQqE-fwQ?si=LfjlrQbyMFu8h5ck\",\n",
        "    \"https://youtu.be/OxgiiyLp5pk?si=m-vMnP6ZyJMiGEs7\",\n",
        "    \"https://youtu.be/BY4sHNaV4WU?si=eFUJ2iGr6FzW2cVK\",\n",
        "    \"https://youtu.be/haM03BYST8c?si=hxlvtp4ifWLHT3by\",\n",
        "    \"https://youtu.be/xdQZqb0glnI?si=ZFjrLHqYaI-icfhj\"\n",
        "]\n",
        "\n",
        "music = [\"추억은사랑을닮아\", \"야생화\", \"눈의꽃\", \"Gift\", \"동경\"]\n",
        "\n",
        "for i, link in enumerate(youtube_url):\n",
        "    ydl_opts = {\n",
        "        'format': 'bestaudio/best',\n",
        "        'postprocessors': [{\n",
        "            'key': 'FFmpegExtractAudio',\n",
        "            'preferredcodec': 'wav',\n",
        "        }],\n",
        "        \"outtmpl\": f'{base_dir}/{dir_name}/{music[i]}',\n",
        "    }\n",
        "    with yt_dlp.YoutubeDL(ydl_opts) as ydl:\n",
        "        ydl.download([link])\n",
        "\n",
        "    audio_url = f\"{base_dir}/{dir_name}/{music[i]}.wav\"\n",
        "\n",
        "    !demucs --two-stems=vocals {audio_url}\n",
        "    !rm -rf /content/separated/htdemucs/{music[i]}/*no_vocals.wav\n",
        "    !mv /content/separated/htdemucs/* {base_dir}/{dir_name}\n",
        "!rm -rf /content/drive/MyDrive/AICover/PHS/*.wav"
      ],
      "metadata": {
        "id": "tvnNjDzmLRu4",
        "colab": {
          "base_uri": "https://localhost:8080/"
        },
        "outputId": "8a0f4b2f-ad77-477e-aec2-83ae6a2b5fcf"
      },
      "execution_count": null,
      "outputs": [
        {
          "output_type": "stream",
          "name": "stdout",
          "text": [
            "[youtube] Extracting URL: https://youtu.be/KaOzQqE-fwQ?si=LfjlrQbyMFu8h5ck\n",
            "[youtube] KaOzQqE-fwQ: Downloading webpage\n",
            "[youtube] KaOzQqE-fwQ: Downloading ios player API JSON\n",
            "[youtube] KaOzQqE-fwQ: Downloading m3u8 information\n",
            "[info] KaOzQqE-fwQ: Downloading 1 format(s): 251\n",
            "[download] Destination: /content/drive/MyDrive/AICover/PHS/추억은사랑을닮아\n",
            "[download] 100% of    5.30MiB in 00:00:00 at 17.91MiB/s  \n",
            "[ExtractAudio] Destination: /content/drive/MyDrive/AICover/PHS/추억은사랑을닮아.wav\n",
            "Deleting original file /content/drive/MyDrive/AICover/PHS/추억은사랑을닮아 (pass -k to keep)\n",
            "\u001b[1mImportant: the default model was recently changed to `htdemucs`\u001b[0m the latest Hybrid Transformer Demucs model. In some cases, this model can actually perform worse than previous models. To get back the old default model use `-n mdx_extra_q`.\n",
            "Selected model is a bag of 1 models. You will see that many progress bars per track.\n",
            "Separated tracks will be stored in /content/separated/htdemucs\n",
            "Separating track /content/drive/MyDrive/AICover/PHS/추억은사랑을닮아.wav\n",
            "  0%|                                                                                 | 0.0/333.45 [00:00<?, ?seconds/s]/usr/local/lib/python3.10/dist-packages/torch/nn/modules/conv.py:306: UserWarning: Plan failed with a cudnnException: CUDNN_BACKEND_EXECUTION_PLAN_DESCRIPTOR: cudnnFinalize Descriptor Failed cudnn_status: CUDNN_STATUS_NOT_SUPPORTED (Triggered internally at ../aten/src/ATen/native/cudnn/Conv_v8.cpp:919.)\n",
            "  return F.conv1d(input, weight, bias, self.stride,\n",
            "100%|██████████████████████████████████████████████████████████████████████| 333.45/333.45 [00:15<00:00, 21.88seconds/s]\n",
            "[youtube] Extracting URL: https://youtu.be/OxgiiyLp5pk?si=m-vMnP6ZyJMiGEs7\n",
            "[youtube] OxgiiyLp5pk: Downloading webpage\n",
            "[youtube] OxgiiyLp5pk: Downloading ios player API JSON\n",
            "[youtube] OxgiiyLp5pk: Downloading m3u8 information\n",
            "[info] OxgiiyLp5pk: Downloading 1 format(s): 251\n",
            "[download] Destination: /content/drive/MyDrive/AICover/PHS/야생화\n",
            "[download] 100% of    5.41MiB in 00:00:00 at 17.21MiB/s  \n",
            "[ExtractAudio] Destination: /content/drive/MyDrive/AICover/PHS/야생화.wav\n",
            "Deleting original file /content/drive/MyDrive/AICover/PHS/야생화 (pass -k to keep)\n",
            "\u001b[1mImportant: the default model was recently changed to `htdemucs`\u001b[0m the latest Hybrid Transformer Demucs model. In some cases, this model can actually perform worse than previous models. To get back the old default model use `-n mdx_extra_q`.\n",
            "Selected model is a bag of 1 models. You will see that many progress bars per track.\n",
            "Separated tracks will be stored in /content/separated/htdemucs\n",
            "Separating track /content/drive/MyDrive/AICover/PHS/야생화.wav\n",
            "  0%|                                                                                 | 0.0/345.15 [00:00<?, ?seconds/s]/usr/local/lib/python3.10/dist-packages/torch/nn/modules/conv.py:306: UserWarning: Plan failed with a cudnnException: CUDNN_BACKEND_EXECUTION_PLAN_DESCRIPTOR: cudnnFinalize Descriptor Failed cudnn_status: CUDNN_STATUS_NOT_SUPPORTED (Triggered internally at ../aten/src/ATen/native/cudnn/Conv_v8.cpp:919.)\n",
            "  return F.conv1d(input, weight, bias, self.stride,\n",
            "100%|██████████████████████████████████████████████████████████████████████| 345.15/345.15 [00:15<00:00, 22.45seconds/s]\n",
            "[youtube] Extracting URL: https://youtu.be/BY4sHNaV4WU?si=eFUJ2iGr6FzW2cVK\n",
            "[youtube] BY4sHNaV4WU: Downloading webpage\n",
            "[youtube] BY4sHNaV4WU: Downloading ios player API JSON\n",
            "[youtube] BY4sHNaV4WU: Downloading m3u8 information\n",
            "[info] BY4sHNaV4WU: Downloading 1 format(s): 251\n",
            "[download] Destination: /content/drive/MyDrive/AICover/PHS/눈의꽃\n",
            "[download] 100% of    5.61MiB in 00:00:00 at 18.47MiB/s  \n",
            "[ExtractAudio] Destination: /content/drive/MyDrive/AICover/PHS/눈의꽃.wav\n",
            "Deleting original file /content/drive/MyDrive/AICover/PHS/눈의꽃 (pass -k to keep)\n",
            "\u001b[1mImportant: the default model was recently changed to `htdemucs`\u001b[0m the latest Hybrid Transformer Demucs model. In some cases, this model can actually perform worse than previous models. To get back the old default model use `-n mdx_extra_q`.\n",
            "Selected model is a bag of 1 models. You will see that many progress bars per track.\n",
            "Separated tracks will be stored in /content/separated/htdemucs\n",
            "Separating track /content/drive/MyDrive/AICover/PHS/눈의꽃.wav\n",
            "  0%|                                                                                 | 0.0/345.15 [00:00<?, ?seconds/s]/usr/local/lib/python3.10/dist-packages/torch/nn/modules/conv.py:306: UserWarning: Plan failed with a cudnnException: CUDNN_BACKEND_EXECUTION_PLAN_DESCRIPTOR: cudnnFinalize Descriptor Failed cudnn_status: CUDNN_STATUS_NOT_SUPPORTED (Triggered internally at ../aten/src/ATen/native/cudnn/Conv_v8.cpp:919.)\n",
            "  return F.conv1d(input, weight, bias, self.stride,\n",
            "100%|██████████████████████████████████████████████████████████████████████| 345.15/345.15 [00:15<00:00, 22.08seconds/s]\n",
            "[youtube] Extracting URL: https://youtu.be/haM03BYST8c?si=hxlvtp4ifWLHT3by\n",
            "[youtube] haM03BYST8c: Downloading webpage\n",
            "[youtube] haM03BYST8c: Downloading ios player API JSON\n",
            "[youtube] haM03BYST8c: Downloading m3u8 information\n",
            "[info] haM03BYST8c: Downloading 1 format(s): 251\n",
            "[download] Destination: /content/drive/MyDrive/AICover/PHS/Gift\n",
            "[download] 100% of    3.33MiB in 00:00:00 at 10.22MiB/s  \n",
            "[ExtractAudio] Destination: /content/drive/MyDrive/AICover/PHS/Gift.wav\n",
            "Deleting original file /content/drive/MyDrive/AICover/PHS/Gift (pass -k to keep)\n",
            "\u001b[1mImportant: the default model was recently changed to `htdemucs`\u001b[0m the latest Hybrid Transformer Demucs model. In some cases, this model can actually perform worse than previous models. To get back the old default model use `-n mdx_extra_q`.\n",
            "Selected model is a bag of 1 models. You will see that many progress bars per track.\n",
            "Separated tracks will be stored in /content/separated/htdemucs\n",
            "Separating track /content/drive/MyDrive/AICover/PHS/Gift.wav\n",
            "  0%|                                                                                  | 0.0/210.6 [00:00<?, ?seconds/s]/usr/local/lib/python3.10/dist-packages/torch/nn/modules/conv.py:306: UserWarning: Plan failed with a cudnnException: CUDNN_BACKEND_EXECUTION_PLAN_DESCRIPTOR: cudnnFinalize Descriptor Failed cudnn_status: CUDNN_STATUS_NOT_SUPPORTED (Triggered internally at ../aten/src/ATen/native/cudnn/Conv_v8.cpp:919.)\n",
            "  return F.conv1d(input, weight, bias, self.stride,\n",
            "100%|████████████████████████████████████████████████████████████████████████| 210.6/210.6 [00:10<00:00, 20.18seconds/s]\n",
            "[youtube] Extracting URL: https://youtu.be/xdQZqb0glnI?si=ZFjrLHqYaI-icfhj\n",
            "[youtube] xdQZqb0glnI: Downloading webpage\n",
            "[youtube] xdQZqb0glnI: Downloading ios player API JSON\n",
            "[youtube] xdQZqb0glnI: Downloading m3u8 information\n",
            "[info] xdQZqb0glnI: Downloading 1 format(s): 251\n",
            "[download] Destination: /content/drive/MyDrive/AICover/PHS/동경\n",
            "[download] 100% of    5.06MiB in 00:00:00 at 16.15MiB/s  \n",
            "[ExtractAudio] Destination: /content/drive/MyDrive/AICover/PHS/동경.wav\n",
            "Deleting original file /content/drive/MyDrive/AICover/PHS/동경 (pass -k to keep)\n",
            "\u001b[1mImportant: the default model was recently changed to `htdemucs`\u001b[0m the latest Hybrid Transformer Demucs model. In some cases, this model can actually perform worse than previous models. To get back the old default model use `-n mdx_extra_q`.\n",
            "Selected model is a bag of 1 models. You will see that many progress bars per track.\n",
            "Separated tracks will be stored in /content/separated/htdemucs\n",
            "Separating track /content/drive/MyDrive/AICover/PHS/동경.wav\n",
            "  0%|                                                                                  | 0.0/315.9 [00:00<?, ?seconds/s]/usr/local/lib/python3.10/dist-packages/torch/nn/modules/conv.py:306: UserWarning: Plan failed with a cudnnException: CUDNN_BACKEND_EXECUTION_PLAN_DESCRIPTOR: cudnnFinalize Descriptor Failed cudnn_status: CUDNN_STATUS_NOT_SUPPORTED (Triggered internally at ../aten/src/ATen/native/cudnn/Conv_v8.cpp:919.)\n",
            "  return F.conv1d(input, weight, bias, self.stride,\n",
            "100%|████████████████████████████████████████████████████████████████████████| 315.9/315.9 [00:15<00:00, 20.35seconds/s]\n"
          ]
        }
      ]
    },
    {
      "cell_type": "code",
      "source": [
        "# !cp -r /content/separated/htdemucs/* {base_dir}/{dir_name}"
      ],
      "metadata": {
        "id": "834LSolQ7Xli"
      },
      "execution_count": null,
      "outputs": []
    },
    {
      "cell_type": "markdown",
      "source": [
        "## Principle of Demucs\n",
        "https://github.com/facebookresearch/demucs"
      ],
      "metadata": {
        "id": "2UUydkmeBhBq"
      }
    },
    {
      "cell_type": "markdown",
      "source": [
        "\n",
        "![](https://raw.githubusercontent.com/facebookresearch/demucs/main/demucs.png)"
      ],
      "metadata": {
        "id": "4cKx4w1Tr0f3"
      }
    }
  ]
}